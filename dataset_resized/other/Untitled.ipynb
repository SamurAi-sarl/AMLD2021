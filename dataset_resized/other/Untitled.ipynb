{
 "cells": [
  {
   "cell_type": "code",
   "execution_count": 6,
   "metadata": {},
   "outputs": [
    {
     "name": "stdout",
     "output_type": "stream",
     "text": [
      "/Users/Valerio/Desktop/OTHER-DATASET/1-Presentacion.pdf\n",
      "/Users/Valerio/Desktop/OTHER-DATASET/2109.11123.pdf\n",
      "/Users/Valerio/Desktop/OTHER-DATASET/2109.11214.pdf\n",
      "/Users/Valerio/Desktop/OTHER-DATASET/2109.11261.pdf\n",
      "/Users/Valerio/Desktop/OTHER-DATASET/2109.11322.pdf\n",
      "/Users/Valerio/Desktop/OTHER-DATASET/CDOC-117hdoc1.pdf\n",
      "/Users/Valerio/Desktop/OTHER-DATASET/CDOC-117hdoc4.pdf\n",
      "/Users/Valerio/Desktop/OTHER-DATASET/CDOC-117hdoc6.pdf\n",
      "/Users/Valerio/Desktop/OTHER-DATASET/CDOC-117hdoc7.pdf\n",
      "/Users/Valerio/Desktop/OTHER-DATASET/ex_cor_f_gm.pdf\n",
      "/Users/Valerio/Desktop/OTHER-DATASET/ex_cor_f_gmm_d2.pdf\n",
      "/Users/Valerio/Desktop/OTHER-DATASET/ex_decomposition_fp_cor.pdf\n",
      "/Users/Valerio/Desktop/OTHER-DATASET/ex_Equilibre2_corrige.pdf\n",
      "/Users/Valerio/Desktop/OTHER-DATASET/ex_equilibre_cor.pdf\n",
      "/Users/Valerio/Desktop/OTHER-DATASET/ex_gravitationPesanteur_Complementaires_cor.pdf\n",
      "/Users/Valerio/Desktop/OTHER-DATASET/ex_intro_DecompositionF_cor.pdf\n",
      "/Users/Valerio/Desktop/OTHER-DATASET/Ex_LoiGrav_intro_cor.pdf\n",
      "/Users/Valerio/Desktop/OTHER-DATASET/photo5938208125909841851.pdf\n",
      "/Users/Valerio/Desktop/OTHER-DATASET/s02_AdditionVectorielle2_b_corrige_v6.pdf\n",
      "/Users/Valerio/Desktop/OTHER-DATASET/s02c_Addition_vectorielle_corrige.pdf\n",
      "/Users/Valerio/Desktop/OTHER-DATASET/S1-Phys-MasseVol-corrigé.pdf\n"
     ]
    }
   ],
   "source": [
    "from pdf2image import convert_from_path\n",
    "import glob\n",
    "\n",
    "file_list = glob.glob(\"/Users/Valerio/Desktop/OTHER-DATASET/*.pdf\")\n",
    "doc_count = 0\n",
    "\n",
    "for file_name in file_list:\n",
    "    print(file_name)\n",
    "    pages = convert_from_path(file_name, 150)\n",
    "    for page in pages:\n",
    "        page = page.resize((500,708))\n",
    "        page.save( 'other_' + str(doc_count) + '.jpg', 'JPEG')\n",
    "        doc_count = doc_count + 1"
   ]
  },
  {
   "cell_type": "code",
   "execution_count": null,
   "metadata": {},
   "outputs": [],
   "source": []
  }
 ],
 "metadata": {
  "kernelspec": {
   "display_name": "Python 3",
   "language": "python",
   "name": "python3"
  },
  "language_info": {
   "codemirror_mode": {
    "name": "ipython",
    "version": 3
   },
   "file_extension": ".py",
   "mimetype": "text/x-python",
   "name": "python",
   "nbconvert_exporter": "python",
   "pygments_lexer": "ipython3",
   "version": "3.8.5"
  }
 },
 "nbformat": 4,
 "nbformat_minor": 4
}
